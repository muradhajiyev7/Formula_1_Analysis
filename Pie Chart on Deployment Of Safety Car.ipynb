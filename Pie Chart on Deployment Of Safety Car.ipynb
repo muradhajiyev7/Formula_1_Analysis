{
 "cells": [
  {
   "cell_type": "code",
   "execution_count": 1,
   "id": "830bcbaf",
   "metadata": {},
   "outputs": [],
   "source": [
    "import numpy as np \n",
    "import pandas as pd \n",
    "import seaborn as sns\n",
    "import matplotlib.pyplot as plt"
   ]
  },
  {
   "cell_type": "code",
   "execution_count": 2,
   "id": "d6972c02",
   "metadata": {},
   "outputs": [],
   "source": [
    "df = pd.read_csv(\"safety_cars.csv\")"
   ]
  },
  {
   "cell_type": "markdown",
   "id": "84d27d25",
   "metadata": {},
   "source": [
    "# **Dataset**\n",
    "**Race:** The name or identifier of a specific military operation or conflict engagement.\n",
    "\n",
    "**Cause:** The reason or motive behind the military operation or conflict.\n",
    "\n",
    "**Deployed:** Number or count of troops or units deployed for the operation or conflict.\n",
    "\n",
    "**Retreated:** Number or count of troops or units that retreated or were withdrawn.\n",
    "\n",
    "**FullLaps:** The number of full cycles or rounds completed within the operation or conflict scenario."
   ]
  },
  {
   "cell_type": "code",
   "execution_count": 3,
   "id": "629da864",
   "metadata": {},
   "outputs": [
    {
     "data": {
      "text/html": [
       "<div>\n",
       "<style scoped>\n",
       "    .dataframe tbody tr th:only-of-type {\n",
       "        vertical-align: middle;\n",
       "    }\n",
       "\n",
       "    .dataframe tbody tr th {\n",
       "        vertical-align: top;\n",
       "    }\n",
       "\n",
       "    .dataframe thead th {\n",
       "        text-align: right;\n",
       "    }\n",
       "</style>\n",
       "<table border=\"1\" class=\"dataframe\">\n",
       "  <thead>\n",
       "    <tr style=\"text-align: right;\">\n",
       "      <th></th>\n",
       "      <th>Race</th>\n",
       "      <th>Cause</th>\n",
       "      <th>Deployed</th>\n",
       "      <th>Retreated</th>\n",
       "      <th>FullLaps</th>\n",
       "    </tr>\n",
       "  </thead>\n",
       "  <tbody>\n",
       "    <tr>\n",
       "      <th>0</th>\n",
       "      <td>1973 Canadian Grand Prix</td>\n",
       "      <td>Accident</td>\n",
       "      <td>33</td>\n",
       "      <td>39.0</td>\n",
       "      <td>5</td>\n",
       "    </tr>\n",
       "    <tr>\n",
       "      <th>1</th>\n",
       "      <td>1993 Brazilian Grand Prix</td>\n",
       "      <td>Accident/Rain</td>\n",
       "      <td>29</td>\n",
       "      <td>38.0</td>\n",
       "      <td>8</td>\n",
       "    </tr>\n",
       "    <tr>\n",
       "      <th>2</th>\n",
       "      <td>1993 British Grand Prix</td>\n",
       "      <td>Stranded car</td>\n",
       "      <td>38</td>\n",
       "      <td>40.0</td>\n",
       "      <td>1</td>\n",
       "    </tr>\n",
       "    <tr>\n",
       "      <th>3</th>\n",
       "      <td>1994 San Marino Grand Prix</td>\n",
       "      <td>Accident</td>\n",
       "      <td>1</td>\n",
       "      <td>6.0</td>\n",
       "      <td>4</td>\n",
       "    </tr>\n",
       "    <tr>\n",
       "      <th>4</th>\n",
       "      <td>1995 Belgian Grand Prix</td>\n",
       "      <td>Rain</td>\n",
       "      <td>28</td>\n",
       "      <td>33.0</td>\n",
       "      <td>4</td>\n",
       "    </tr>\n",
       "  </tbody>\n",
       "</table>\n",
       "</div>"
      ],
      "text/plain": [
       "                         Race          Cause  Deployed  Retreated  FullLaps\n",
       "0    1973 Canadian Grand Prix       Accident        33       39.0         5\n",
       "1   1993 Brazilian Grand Prix  Accident/Rain        29       38.0         8\n",
       "2     1993 British Grand Prix   Stranded car        38       40.0         1\n",
       "3  1994 San Marino Grand Prix       Accident         1        6.0         4\n",
       "4     1995 Belgian Grand Prix           Rain        28       33.0         4"
      ]
     },
     "execution_count": 3,
     "metadata": {},
     "output_type": "execute_result"
    }
   ],
   "source": [
    "df.head()"
   ]
  },
  {
   "cell_type": "code",
   "execution_count": 4,
   "id": "42577e08",
   "metadata": {},
   "outputs": [
    {
     "data": {
      "text/plain": [
       "(326, 5)"
      ]
     },
     "execution_count": 4,
     "metadata": {},
     "output_type": "execute_result"
    }
   ],
   "source": [
    "df.shape"
   ]
  },
  {
   "cell_type": "code",
   "execution_count": 5,
   "id": "de9a6e4f",
   "metadata": {},
   "outputs": [
    {
     "data": {
      "text/html": [
       "<div>\n",
       "<style scoped>\n",
       "    .dataframe tbody tr th:only-of-type {\n",
       "        vertical-align: middle;\n",
       "    }\n",
       "\n",
       "    .dataframe tbody tr th {\n",
       "        vertical-align: top;\n",
       "    }\n",
       "\n",
       "    .dataframe thead th {\n",
       "        text-align: right;\n",
       "    }\n",
       "</style>\n",
       "<table border=\"1\" class=\"dataframe\">\n",
       "  <thead>\n",
       "    <tr style=\"text-align: right;\">\n",
       "      <th></th>\n",
       "      <th>Deployed</th>\n",
       "      <th>Retreated</th>\n",
       "      <th>FullLaps</th>\n",
       "    </tr>\n",
       "  </thead>\n",
       "  <tbody>\n",
       "    <tr>\n",
       "      <th>count</th>\n",
       "      <td>326.000000</td>\n",
       "      <td>313.000000</td>\n",
       "      <td>326.000000</td>\n",
       "    </tr>\n",
       "    <tr>\n",
       "      <th>mean</th>\n",
       "      <td>19.904908</td>\n",
       "      <td>23.156550</td>\n",
       "      <td>3.647239</td>\n",
       "    </tr>\n",
       "    <tr>\n",
       "      <th>std</th>\n",
       "      <td>19.108762</td>\n",
       "      <td>18.466995</td>\n",
       "      <td>2.122721</td>\n",
       "    </tr>\n",
       "    <tr>\n",
       "      <th>min</th>\n",
       "      <td>1.000000</td>\n",
       "      <td>2.000000</td>\n",
       "      <td>1.000000</td>\n",
       "    </tr>\n",
       "    <tr>\n",
       "      <th>25%</th>\n",
       "      <td>1.000000</td>\n",
       "      <td>6.000000</td>\n",
       "      <td>2.000000</td>\n",
       "    </tr>\n",
       "    <tr>\n",
       "      <th>50%</th>\n",
       "      <td>16.000000</td>\n",
       "      <td>18.000000</td>\n",
       "      <td>3.000000</td>\n",
       "    </tr>\n",
       "    <tr>\n",
       "      <th>75%</th>\n",
       "      <td>32.750000</td>\n",
       "      <td>36.000000</td>\n",
       "      <td>5.000000</td>\n",
       "    </tr>\n",
       "    <tr>\n",
       "      <th>max</th>\n",
       "      <td>75.000000</td>\n",
       "      <td>71.000000</td>\n",
       "      <td>19.000000</td>\n",
       "    </tr>\n",
       "  </tbody>\n",
       "</table>\n",
       "</div>"
      ],
      "text/plain": [
       "         Deployed   Retreated    FullLaps\n",
       "count  326.000000  313.000000  326.000000\n",
       "mean    19.904908   23.156550    3.647239\n",
       "std     19.108762   18.466995    2.122721\n",
       "min      1.000000    2.000000    1.000000\n",
       "25%      1.000000    6.000000    2.000000\n",
       "50%     16.000000   18.000000    3.000000\n",
       "75%     32.750000   36.000000    5.000000\n",
       "max     75.000000   71.000000   19.000000"
      ]
     },
     "execution_count": 5,
     "metadata": {},
     "output_type": "execute_result"
    }
   ],
   "source": [
    "df.describe()"
   ]
  },
  {
   "cell_type": "code",
   "execution_count": 6,
   "id": "2d6fde08",
   "metadata": {},
   "outputs": [
    {
     "data": {
      "text/plain": [
       "Race          object\n",
       "Cause         object\n",
       "Deployed       int64\n",
       "Retreated    float64\n",
       "FullLaps       int64\n",
       "dtype: object"
      ]
     },
     "execution_count": 6,
     "metadata": {},
     "output_type": "execute_result"
    }
   ],
   "source": [
    "df.dtypes"
   ]
  },
  {
   "cell_type": "code",
   "execution_count": 7,
   "id": "71d95766",
   "metadata": {},
   "outputs": [],
   "source": [
    "df[\"Rain_rslts\"] = np.where(df[\"Cause\"] == \"Rain\", 'Rain', 'Others')"
   ]
  },
  {
   "cell_type": "code",
   "execution_count": 8,
   "id": "477e7e1d",
   "metadata": {},
   "outputs": [],
   "source": [
    "def pie(category):\n",
    "    label = []\n",
    "    label_percent = []\n",
    "    \n",
    "    specific_categories = ['Accident', 'Rain', 'Stranded car', 'Debris']\n",
    "    \n",
    "    for cat in specific_categories:\n",
    "        if cat in df[category].unique():\n",
    "            label.append(cat)\n",
    "            pass_cat = df[df[category] == cat].shape[0]\n",
    "            all_cat = df.shape[0]  # Counting all rows in the DataFrame\n",
    "            label_percent.append(pass_cat / all_cat * 100)\n",
    "        \n",
    "    fig, axs = plt.subplots()\n",
    "    axs.pie(label_percent, labels=label, autopct='%1.1f%%')\n",
    "    plt.title(category)\n",
    "    plt.show()"
   ]
  },
  {
   "cell_type": "code",
   "execution_count": 9,
   "id": "4aec4f86",
   "metadata": {},
   "outputs": [
    {
     "data": {
      "image/png": "[encoded data removed]",
      "text/plain": [
       "<Figure size 640x480 with 1 Axes>"
      ]
     },
     "metadata": {},
     "output_type": "display_data"
    }
   ],
   "source": [
    "pie('Cause')"
   ]
  },
  {
   "cell_type": "code",
   "execution_count": null,
   "id": "4cbec2d6",
   "metadata": {},
   "outputs": [],
   "source": []
  },
  {
   "cell_type": "code",
   "execution_count": null,
   "id": "fc661586",
   "metadata": {},
   "outputs": [],
   "source": []
  }
 ],
 "metadata": {
  "kernelspec": {
   "display_name": "Python 3 (ipykernel)",
   "language": "python",
   "name": "python3"
  },
  "language_info": {
   "codemirror_mode": {
    "name": "ipython",
    "version": 3
   },
   "file_extension": ".py",
   "mimetype": "text/x-python",
   "name": "python",
   "nbconvert_exporter": "python",
   "pygments_lexer": "ipython3",
   "version": "3.11.4"
  }
 },
 "nbformat": 4,
 "nbformat_minor": 5
}

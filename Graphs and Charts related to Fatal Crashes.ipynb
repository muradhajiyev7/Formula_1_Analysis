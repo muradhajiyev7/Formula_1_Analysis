{
 "cells": [
  {
   "cell_type": "code",
   "execution_count": 1,
   "id": "67978dfd",
   "metadata": {},
   "outputs": [],
   "source": [
    "import numpy as np \n",
    "import pandas as pd \n",
    "import seaborn as sns\n",
    "import matplotlib.pyplot as plt"
   ]
  },
  {
   "cell_type": "code",
   "execution_count": 2,
   "id": "87cc5c2b",
   "metadata": {},
   "outputs": [],
   "source": [
    "df = pd.read_csv(\"fatal_accidents_drivers.csv\")"
   ]
  },
  {
   "cell_type": "markdown",
   "id": "be7e3301",
   "metadata": {},
   "source": [
    "# **Dataset**\n",
    "**Driver:** Name of the racing driver involved in the accident.\n",
    "\n",
    "**Age:** Age of the driver at the time of the accident.\n",
    "\n",
    "**Date Of Accident:** The specific date when the accident occurred.\n",
    "\n",
    "**Event:** The racing event or competition where the accident took place.\n",
    "\n",
    "**Car:** The car or vehicle involved in the accident, usually denoted by its model or identifier.\n",
    "\n",
    "**Session:** Refers to the specific session during the racing event (e.g., practice, qualifying, race) when the accident occurred."
   ]
  },
  {
   "cell_type": "code",
   "execution_count": 3,
   "id": "778cdc67",
   "metadata": {},
   "outputs": [
    {
     "data": {
      "text/html": [
       "<div>\n",
       "<style scoped>\n",
       "    .dataframe tbody tr th:only-of-type {\n",
       "        vertical-align: middle;\n",
       "    }\n",
       "\n",
       "    .dataframe tbody tr th {\n",
       "        vertical-align: top;\n",
       "    }\n",
       "\n",
       "    .dataframe thead th {\n",
       "        text-align: right;\n",
       "    }\n",
       "</style>\n",
       "<table border=\"1\" class=\"dataframe\">\n",
       "  <thead>\n",
       "    <tr style=\"text-align: right;\">\n",
       "      <th></th>\n",
       "      <th>Driver</th>\n",
       "      <th>Age</th>\n",
       "      <th>Date Of Accident</th>\n",
       "      <th>Event</th>\n",
       "      <th>Car</th>\n",
       "      <th>Session</th>\n",
       "    </tr>\n",
       "  </thead>\n",
       "  <tbody>\n",
       "    <tr>\n",
       "      <th>0</th>\n",
       "      <td>Cameron Earl</td>\n",
       "      <td>29.0</td>\n",
       "      <td>6/18/52</td>\n",
       "      <td>NaN</td>\n",
       "      <td>ERA</td>\n",
       "      <td>Test</td>\n",
       "    </tr>\n",
       "    <tr>\n",
       "      <th>1</th>\n",
       "      <td>Chet Miller</td>\n",
       "      <td>50.0</td>\n",
       "      <td>5/15/53</td>\n",
       "      <td>1953 Indianapolis 500</td>\n",
       "      <td>Kurtis Kraft</td>\n",
       "      <td>Practice</td>\n",
       "    </tr>\n",
       "    <tr>\n",
       "      <th>2</th>\n",
       "      <td>Charles de Tornaco</td>\n",
       "      <td>26.0</td>\n",
       "      <td>9/18/53</td>\n",
       "      <td>1953 Modena Grand Prix</td>\n",
       "      <td>Ferrari</td>\n",
       "      <td>Practice</td>\n",
       "    </tr>\n",
       "    <tr>\n",
       "      <th>3</th>\n",
       "      <td>Onofre Marimón</td>\n",
       "      <td>30.0</td>\n",
       "      <td>7/31/54</td>\n",
       "      <td>1954 German Grand Prix</td>\n",
       "      <td>Maserati</td>\n",
       "      <td>Practice</td>\n",
       "    </tr>\n",
       "    <tr>\n",
       "      <th>4</th>\n",
       "      <td>Mario Alborghetti</td>\n",
       "      <td>26.0</td>\n",
       "      <td>4/11/55</td>\n",
       "      <td>1955 Pau Grand Prix</td>\n",
       "      <td>Maserati</td>\n",
       "      <td>Race</td>\n",
       "    </tr>\n",
       "  </tbody>\n",
       "</table>\n",
       "</div>"
      ],
      "text/plain": [
       "               Driver   Age Date Of Accident                   Event  \\\n",
       "0        Cameron Earl  29.0          6/18/52                     NaN   \n",
       "1         Chet Miller  50.0          5/15/53   1953 Indianapolis 500   \n",
       "2  Charles de Tornaco  26.0          9/18/53  1953 Modena Grand Prix   \n",
       "3      Onofre Marimón  30.0          7/31/54  1954 German Grand Prix   \n",
       "4   Mario Alborghetti  26.0          4/11/55     1955 Pau Grand Prix   \n",
       "\n",
       "            Car   Session  \n",
       "0           ERA      Test  \n",
       "1  Kurtis Kraft  Practice  \n",
       "2       Ferrari  Practice  \n",
       "3      Maserati  Practice  \n",
       "4      Maserati      Race  "
      ]
     },
     "execution_count": 3,
     "metadata": {},
     "output_type": "execute_result"
    }
   ],
   "source": [
    "df.head()"
   ]
  },
  {
   "cell_type": "code",
   "execution_count": 4,
   "id": "74e7c6a0",
   "metadata": {},
   "outputs": [
    {
     "data": {
      "text/plain": [
       "(51, 6)"
      ]
     },
     "execution_count": 4,
     "metadata": {},
     "output_type": "execute_result"
    }
   ],
   "source": [
    "df.shape"
   ]
  },
  {
   "cell_type": "code",
   "execution_count": 5,
   "id": "40dfa220",
   "metadata": {},
   "outputs": [
    {
     "data": {
      "text/html": [
       "<div>\n",
       "<style scoped>\n",
       "    .dataframe tbody tr th:only-of-type {\n",
       "        vertical-align: middle;\n",
       "    }\n",
       "\n",
       "    .dataframe tbody tr th {\n",
       "        vertical-align: top;\n",
       "    }\n",
       "\n",
       "    .dataframe thead th {\n",
       "        text-align: right;\n",
       "    }\n",
       "</style>\n",
       "<table border=\"1\" class=\"dataframe\">\n",
       "  <thead>\n",
       "    <tr style=\"text-align: right;\">\n",
       "      <th></th>\n",
       "      <th>Age</th>\n",
       "    </tr>\n",
       "  </thead>\n",
       "  <tbody>\n",
       "    <tr>\n",
       "      <th>count</th>\n",
       "      <td>50.000000</td>\n",
       "    </tr>\n",
       "    <tr>\n",
       "      <th>mean</th>\n",
       "      <td>31.800000</td>\n",
       "    </tr>\n",
       "    <tr>\n",
       "      <th>std</th>\n",
       "      <td>7.714286</td>\n",
       "    </tr>\n",
       "    <tr>\n",
       "      <th>min</th>\n",
       "      <td>20.000000</td>\n",
       "    </tr>\n",
       "    <tr>\n",
       "      <th>25%</th>\n",
       "      <td>26.000000</td>\n",
       "    </tr>\n",
       "    <tr>\n",
       "      <th>50%</th>\n",
       "      <td>31.000000</td>\n",
       "    </tr>\n",
       "    <tr>\n",
       "      <th>75%</th>\n",
       "      <td>34.750000</td>\n",
       "    </tr>\n",
       "    <tr>\n",
       "      <th>max</th>\n",
       "      <td>59.000000</td>\n",
       "    </tr>\n",
       "  </tbody>\n",
       "</table>\n",
       "</div>"
      ],
      "text/plain": [
       "             Age\n",
       "count  50.000000\n",
       "mean   31.800000\n",
       "std     7.714286\n",
       "min    20.000000\n",
       "25%    26.000000\n",
       "50%    31.000000\n",
       "75%    34.750000\n",
       "max    59.000000"
      ]
     },
     "execution_count": 5,
     "metadata": {},
     "output_type": "execute_result"
    }
   ],
   "source": [
    "df.describe()"
   ]
  },
  {
   "cell_type": "code",
   "execution_count": 6,
   "id": "64a6a937",
   "metadata": {},
   "outputs": [
    {
     "data": {
      "text/plain": [
       "Driver               object\n",
       "Age                 float64\n",
       "Date Of Accident     object\n",
       "Event                object\n",
       "Car                  object\n",
       "Session              object\n",
       "dtype: object"
      ]
     },
     "execution_count": 6,
     "metadata": {},
     "output_type": "execute_result"
    }
   ],
   "source": [
    "df.dtypes"
   ]
  },
  {
   "cell_type": "code",
   "execution_count": 7,
   "id": "808faddf",
   "metadata": {},
   "outputs": [],
   "source": [
    "def pie(category):\n",
    "    label = []\n",
    "    label_percent = []\n",
    "    \n",
    "    specific_categories = ['Practice','Race','Qualifying','Pre-race test']\n",
    "    \n",
    "    for cat in specific_categories:\n",
    "        if cat in df[category].unique():\n",
    "            label.append(cat)\n",
    "            pass_cat = df[df[category] == cat].shape[0]\n",
    "            all_cat = df.shape[0] \n",
    "            label_percent.append(pass_cat / all_cat * 100)\n",
    "        \n",
    "    fig, axs = plt.subplots()\n",
    "    axs.pie(label_percent, labels=label, autopct='%1.1f%%')\n",
    "    plt.title(category)\n",
    "    plt.show()"
   ]
  },
  {
   "cell_type": "code",
   "execution_count": 8,
   "id": "5aa2b10e",
   "metadata": {},
   "outputs": [
    {
     "data": {
      "image/png": "[encoded data removed]",
      "text/plain": [
       "<Figure size 640x480 with 1 Axes>"
      ]
     },
     "metadata": {},
     "output_type": "display_data"
    }
   ],
   "source": [
    "pie('Car')"
   ]
  },
  {
   "cell_type": "code",
   "execution_count": 20,
   "id": "9b25f126",
   "metadata": {},
   "outputs": [],
   "source": [
    "def top_three_bar(category):\n",
    "    top_categories = df[category].value_counts().head(3)\n",
    "    \n",
    "    label = top_categories.index.tolist()\n",
    "    counts = []\n",
    "\n",
    "    for cat in label:\n",
    "        cat_count = df[df[category] == cat].shape[0]\n",
    "        counts.append(cat_count)\n",
    "\n",
    "    plt.bar(label, counts)\n",
    "    plt.xlabel(category)\n",
    "    plt.ylabel('Counts')\n",
    "    plt.title('Counts of Top 3 Categories')\n",
    "\n",
    "    # Annotate each bar with its count value\n",
    "    for i, count in enumerate(counts):\n",
    "        plt.text(i, count + 0.1, str(count), ha='center', va='bottom')\n",
    "\n",
    "    plt.show()"
   ]
  },
  {
   "cell_type": "code",
   "execution_count": 21,
   "id": "c6cb5ad8",
   "metadata": {},
   "outputs": [
    {
     "data": {
      "image/png": "[encoded data removed]",
      "text/plain": [
       "<Figure size 640x480 with 1 Axes>"
      ]
     },
     "metadata": {},
     "output_type": "display_data"
    }
   ],
   "source": [
    "top_three_bar('Car')"
   ]
  },
  {
   "cell_type": "code",
   "execution_count": null,
   "id": "fbd75746",
   "metadata": {},
   "outputs": [],
   "source": []
  }
 ],
 "metadata": {
  "kernelspec": {
   "display_name": "Python 3 (ipykernel)",
   "language": "python",
   "name": "python3"
  },
  "language_info": {
   "codemirror_mode": {
    "name": "ipython",
    "version": 3
   },
   "file_extension": ".py",
   "mimetype": "text/x-python",
   "name": "python",
   "nbconvert_exporter": "python",
   "pygments_lexer": "ipython3",
   "version": "3.11.4"
  }
 },
 "nbformat": 4,
 "nbformat_minor": 5
}
